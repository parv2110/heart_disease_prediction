{
 "cells": [
  {
   "cell_type": "code",
   "execution_count": 7,
   "id": "0f5db3c8-108f-468e-8093-53a622ed009e",
   "metadata": {},
   "outputs": [],
   "source": [
    "import pandas as pd\n",
    "import numpy as np\n",
    "from sklearn.model_selection import train_test_split, cross_val_score\n",
    "from sklearn.metrics import accuracy_score, precision_score, recall_score, f1_score, roc_auc_score\n",
    "from sklearn.ensemble import RandomForestClassifier, GradientBoostingClassifier, AdaBoostClassifier, BaggingClassifier\n",
    "from sklearn.linear_model import LogisticRegression\n",
    "from sklearn.tree import DecisionTreeClassifier\n",
    "from sklearn.neighbors import KNeighborsClassifier\n",
    "from sklearn.naive_bayes import GaussianNB\n",
    "from sklearn.svm import SVC\n",
    "from sklearn.neural_network import MLPClassifier\n",
    "import time"
   ]
  },
  {
   "cell_type": "code",
   "execution_count": 8,
   "id": "6ca60e25-c1db-45df-a1df-834cf8b752e0",
   "metadata": {},
   "outputs": [],
   "source": [
    "df = pd.read_csv('heart.csv')"
   ]
  },
  {
   "cell_type": "code",
   "execution_count": 9,
   "id": "5199a6f7-1df5-4332-a641-3c887cd813b2",
   "metadata": {},
   "outputs": [
    {
     "name": "stdout",
     "output_type": "stream",
     "text": [
      "<class 'pandas.core.frame.DataFrame'>\n",
      "RangeIndex: 1025 entries, 0 to 1024\n",
      "Data columns (total 14 columns):\n",
      " #   Column    Non-Null Count  Dtype  \n",
      "---  ------    --------------  -----  \n",
      " 0   age       1025 non-null   int64  \n",
      " 1   sex       1025 non-null   int64  \n",
      " 2   cp        1024 non-null   float64\n",
      " 3   trestbps  1025 non-null   int64  \n",
      " 4   chol      1022 non-null   float64\n",
      " 5   fbs       1025 non-null   int64  \n",
      " 6   restecg   1025 non-null   int64  \n",
      " 7   thalach   1023 non-null   float64\n",
      " 8   exang     1025 non-null   int64  \n",
      " 9   oldpeak   1023 non-null   float64\n",
      " 10  slope     1025 non-null   int64  \n",
      " 11  ca        1024 non-null   float64\n",
      " 12  thal      1025 non-null   int64  \n",
      " 13  target    1025 non-null   int64  \n",
      "dtypes: float64(5), int64(9)\n",
      "memory usage: 112.2 KB\n"
     ]
    }
   ],
   "source": [
    "df.info()"
   ]
  },
  {
   "cell_type": "code",
   "execution_count": 10,
   "id": "8d4c0d37-fbec-49b3-b743-5291b220beba",
   "metadata": {},
   "outputs": [
    {
     "name": "stdout",
     "output_type": "stream",
     "text": [
      "       age  sex   cp  trestbps   chol  fbs  restecg  thalach  exang  oldpeak  \\\n",
      "0      NaN  1.0  NaN     125.0  212.0  0.0      1.0    168.0    0.0      1.0   \n",
      "1     53.0  1.0  0.0       NaN  203.0  NaN      0.0    155.0    1.0      3.1   \n",
      "2      NaN  1.0  0.0     145.0  174.0  NaN      NaN    125.0    1.0      2.6   \n",
      "3     61.0  NaN  0.0       NaN  203.0  0.0      1.0    161.0    0.0      0.0   \n",
      "4     62.0  0.0  0.0     138.0  294.0  1.0      1.0    106.0    0.0      NaN   \n",
      "...    ...  ...  ...       ...    ...  ...      ...      ...    ...      ...   \n",
      "1020   NaN  NaN  1.0     140.0    NaN  0.0      1.0    164.0    1.0      0.0   \n",
      "1021  60.0  NaN  NaN     125.0  258.0  0.0      0.0    141.0    NaN      2.8   \n",
      "1022  47.0  1.0  NaN     110.0  275.0  0.0      0.0    118.0    1.0      1.0   \n",
      "1023  50.0  0.0  0.0     110.0  254.0  NaN      0.0    159.0    NaN      NaN   \n",
      "1024   NaN  1.0  0.0     120.0  188.0  0.0      NaN      NaN    NaN      1.4   \n",
      "\n",
      "      slope   ca  thal  target  \n",
      "0       2.0  2.0   NaN     NaN  \n",
      "1       0.0  0.0   NaN     0.0  \n",
      "2       0.0  0.0   NaN     NaN  \n",
      "3       2.0  NaN   3.0     0.0  \n",
      "4       1.0  3.0   NaN     0.0  \n",
      "...     ...  ...   ...     ...  \n",
      "1020    2.0  NaN   2.0     1.0  \n",
      "1021    NaN  NaN   3.0     0.0  \n",
      "1022    1.0  1.0   NaN     0.0  \n",
      "1023    2.0  0.0   2.0     1.0  \n",
      "1024    1.0  1.0   NaN     0.0  \n",
      "\n",
      "[1025 rows x 14 columns]\n"
     ]
    }
   ],
   "source": [
    "def randomly_replace_values(df, replace_fraction=0.2):\n",
    " \n",
    "    for col in df.columns:\n",
    "        # Determine how many values to replace with NaN\n",
    "        num_to_replace = int(replace_fraction * len(df))\n",
    "\n",
    "        # Randomly select indices to replace in the current column\n",
    "        indices = np.random.choice(df.index, num_to_replace, replace=False)\n",
    "        \n",
    "        # Set the selected indices to NaN\n",
    "        df.loc[indices, col] = np.nan\n",
    "    \n",
    "    return df\n",
    "\n",
    "# Apply the function\n",
    "df_with_random_nans = randomly_replace_values(df, replace_fraction=0.3)\n",
    "print(df_with_random_nans)"
   ]
  },
  {
   "cell_type": "code",
   "execution_count": 11,
   "id": "a21fdc81-b057-41ae-8c2d-c59e2e6c84ce",
   "metadata": {},
   "outputs": [],
   "source": [
    "df=df.fillna('')"
   ]
  },
  {
   "cell_type": "code",
   "execution_count": 17,
   "id": "936d2883-c319-4da6-8583-34530cedd59b",
   "metadata": {},
   "outputs": [
    {
     "name": "stdout",
     "output_type": "stream",
     "text": [
      "       age  sex   cp trestbps   chol  fbs restecg thalach exang oldpeak slope  \\\n",
      "0           1.0         125.0  212.0  0.0     1.0   168.0   0.0     1.0   2.0   \n",
      "1     53.0  1.0  0.0           203.0          0.0   155.0   1.0     3.1   0.0   \n",
      "2           1.0  0.0    145.0  174.0                125.0   1.0     2.6   0.0   \n",
      "3     61.0       0.0           203.0  0.0     1.0   161.0   0.0     0.0   2.0   \n",
      "4     62.0  0.0  0.0    138.0  294.0  1.0     1.0   106.0   0.0           1.0   \n",
      "...    ...  ...  ...      ...    ...  ...     ...     ...   ...     ...   ...   \n",
      "1020             1.0    140.0         0.0     1.0   164.0   1.0     0.0   2.0   \n",
      "1021  60.0              125.0  258.0  0.0     0.0   141.0           2.8         \n",
      "1022  47.0  1.0         110.0  275.0  0.0     0.0   118.0   1.0     1.0   1.0   \n",
      "1023  50.0  0.0  0.0    110.0  254.0          0.0   159.0                 2.0   \n",
      "1024        1.0  0.0    120.0  188.0  0.0                           1.4   1.0   \n",
      "\n",
      "       ca thal target  \n",
      "0     2.0              \n",
      "1     0.0         0.0  \n",
      "2     0.0              \n",
      "3          3.0    0.0  \n",
      "4     3.0         0.0  \n",
      "...   ...  ...    ...  \n",
      "1020       2.0    1.0  \n",
      "1021       3.0    0.0  \n",
      "1022  1.0         0.0  \n",
      "1023  0.0  2.0    1.0  \n",
      "1024  1.0         0.0  \n",
      "\n",
      "[1025 rows x 14 columns]\n"
     ]
    }
   ],
   "source": [
    "print(df)"
   ]
  },
  {
   "cell_type": "code",
   "execution_count": 19,
   "id": "f2c42207-feb0-45a4-b588-6520cab4b692",
   "metadata": {},
   "outputs": [
    {
     "name": "stdout",
     "output_type": "stream",
     "text": [
      "Minimum values for numeric columns:\n",
      " Series([], dtype: float64)\n",
      "Minimum values for each column:\n",
      " age          29.0\n",
      "sex           0.0\n",
      "cp            0.0\n",
      "trestbps     94.0\n",
      "chol        126.0\n",
      "fbs           0.0\n",
      "restecg       0.0\n",
      "thalach      71.0\n",
      "exang         0.0\n",
      "oldpeak       0.0\n",
      "slope         0.0\n",
      "ca            0.0\n",
      "thal          0.0\n",
      "target        0.0\n",
      "dtype: float64\n",
      "Original DataFrame:\n",
      "        age  sex   cp  trestbps   chol  fbs  restecg  thalach  exang  oldpeak  \\\n",
      "0      NaN  1.0  NaN     125.0  212.0  0.0      1.0    168.0    0.0      1.0   \n",
      "1     53.0  1.0  0.0       NaN  203.0  NaN      0.0    155.0    1.0      3.1   \n",
      "2      NaN  1.0  0.0     145.0  174.0  NaN      NaN    125.0    1.0      2.6   \n",
      "3     61.0  NaN  0.0       NaN  203.0  0.0      1.0    161.0    0.0      0.0   \n",
      "4     62.0  0.0  0.0     138.0  294.0  1.0      1.0    106.0    0.0      NaN   \n",
      "...    ...  ...  ...       ...    ...  ...      ...      ...    ...      ...   \n",
      "1020   NaN  NaN  1.0     140.0    NaN  0.0      1.0    164.0    1.0      0.0   \n",
      "1021  60.0  NaN  NaN     125.0  258.0  0.0      0.0    141.0    NaN      2.8   \n",
      "1022  47.0  1.0  NaN     110.0  275.0  0.0      0.0    118.0    1.0      1.0   \n",
      "1023  50.0  0.0  0.0     110.0  254.0  NaN      0.0    159.0    NaN      NaN   \n",
      "1024   NaN  1.0  0.0     120.0  188.0  0.0      NaN      NaN    NaN      1.4   \n",
      "\n",
      "      slope   ca  thal  target  \n",
      "0       2.0  2.0   NaN     NaN  \n",
      "1       0.0  0.0   NaN     0.0  \n",
      "2       0.0  0.0   NaN     NaN  \n",
      "3       2.0  NaN   3.0     0.0  \n",
      "4       1.0  3.0   NaN     0.0  \n",
      "...     ...  ...   ...     ...  \n",
      "1020    2.0  NaN   2.0     1.0  \n",
      "1021    NaN  NaN   3.0     0.0  \n",
      "1022    1.0  1.0   NaN     0.0  \n",
      "1023    2.0  0.0   2.0     1.0  \n",
      "1024    1.0  1.0   NaN     0.0  \n",
      "\n",
      "[1025 rows x 14 columns]\n",
      "New DataFrame with NaN filled by column minimum:         age  sex   cp  trestbps   chol  fbs  restecg  thalach  exang  oldpeak  \\\n",
      "0     29.0  1.0  0.0     125.0  212.0  0.0      1.0    168.0    0.0      1.0   \n",
      "1     53.0  1.0  0.0      94.0  203.0  0.0      0.0    155.0    1.0      3.1   \n",
      "2     29.0  1.0  0.0     145.0  174.0  0.0      0.0    125.0    1.0      2.6   \n",
      "3     61.0  0.0  0.0      94.0  203.0  0.0      1.0    161.0    0.0      0.0   \n",
      "4     62.0  0.0  0.0     138.0  294.0  1.0      1.0    106.0    0.0      0.0   \n",
      "...    ...  ...  ...       ...    ...  ...      ...      ...    ...      ...   \n",
      "1020  29.0  0.0  1.0     140.0  126.0  0.0      1.0    164.0    1.0      0.0   \n",
      "1021  60.0  0.0  0.0     125.0  258.0  0.0      0.0    141.0    0.0      2.8   \n",
      "1022  47.0  1.0  0.0     110.0  275.0  0.0      0.0    118.0    1.0      1.0   \n",
      "1023  50.0  0.0  0.0     110.0  254.0  0.0      0.0    159.0    0.0      0.0   \n",
      "1024  29.0  1.0  0.0     120.0  188.0  0.0      0.0     71.0    0.0      1.4   \n",
      "\n",
      "      slope   ca  thal  target  \n",
      "0       2.0  2.0   0.0     0.0  \n",
      "1       0.0  0.0   0.0     0.0  \n",
      "2       0.0  0.0   0.0     0.0  \n",
      "3       2.0  0.0   3.0     0.0  \n",
      "4       1.0  3.0   0.0     0.0  \n",
      "...     ...  ...   ...     ...  \n",
      "1020    2.0  0.0   2.0     1.0  \n",
      "1021    0.0  0.0   3.0     0.0  \n",
      "1022    1.0  1.0   0.0     0.0  \n",
      "1023    2.0  0.0   2.0     1.0  \n",
      "1024    1.0  1.0   0.0     0.0  \n",
      "\n",
      "[1025 rows x 14 columns]\n"
     ]
    }
   ],
   "source": [
    "# Get minimum values for numeric columns only\n",
    "min_val = df.min(numeric_only=True)\n",
    "print(\"Minimum values for numeric columns:\\n\", min_val)\n",
    "\n",
    "# Convert non-numeric columns to NaN\n",
    "df = df.apply(pd.to_numeric, errors='coerce')\n",
    "\n",
    "# Now calculate the minimum values\n",
    "min_val = df.min()\n",
    "print(\"Minimum values for each column:\\n\", min_val)\n",
    "\n",
    "# Calculate the minimum values for each column\n",
    "min_values = df.min()\n",
    "\n",
    "# Fill NaN values in each column with its minimum value\n",
    "df_filled_with_min = df.fillna(min_values)\n",
    "\n",
    "# Display the new DataFrame\n",
    "print(\"Original DataFrame:\\n\", df)\n",
    "print(\"New DataFrame with NaN filled by column minimum: \", df_filled_with_min)\n",
    "df_filled_with_min.to_csv('new_data1.csv',index=False)"
   ]
  },
  {
   "cell_type": "code",
   "execution_count": 21,
   "id": "c34d5954-3052-4ca7-970d-08fc49532018",
   "metadata": {},
   "outputs": [
    {
     "name": "stdout",
     "output_type": "stream",
     "text": [
      "Accuracy: 69.16%\n"
     ]
    }
   ],
   "source": [
    "from sklearn.preprocessing import StandardScaler\n",
    "\n",
    "X = df_filled_with_min.iloc[:, :-1]  \n",
    "y = df_filled_with_min.iloc[:, -1]  \n",
    "\n",
    "X_train, X_test, y_train, y_test = train_test_split(X, y, test_size=0.3, random_state=42)\n",
    "\n",
    "scaler = StandardScaler()\n",
    "X_train = scaler.fit_transform(X_train)\n",
    "X_test = scaler.transform(X_test)\n",
    "\n",
    "model = LogisticRegression(max_iter=2000)\n",
    "\n",
    "model.fit(X_train, y_train)\n",
    "\n",
    "y_pred = model.predict(X_test)\n",
    "\n",
    "# Evaluate the model\n",
    "from sklearn.metrics import accuracy_score\n",
    "accuracy = accuracy_score(y_test, y_pred)\n",
    "print(f\"Accuracy: {accuracy * 100:.2f}%\")"
   ]
  },
  {
   "cell_type": "code",
   "execution_count": 23,
   "id": "346270b0-6aed-4467-bc36-f611b1561dad",
   "metadata": {},
   "outputs": [
    {
     "data": {
      "text/plain": [
       "(308,)"
      ]
     },
     "execution_count": 23,
     "metadata": {},
     "output_type": "execute_result"
    }
   ],
   "source": [
    "y_pred.shape"
   ]
  },
  {
   "cell_type": "code",
   "execution_count": 25,
   "id": "65525ce0-c806-45ce-8ac1-db1872ca577e",
   "metadata": {},
   "outputs": [],
   "source": [
    "from sklearn.ensemble import IsolationForest  # For One-Class Classification\n",
    "models = {\n",
    "    \"Logistic Regression\": LogisticRegression(max_iter=2000),\n",
    "    \"Support Vector Machine\": SVC(probability=True),\n",
    "    \"Decision Tree Classifier\": DecisionTreeClassifier(),\n",
    "    \"Naïve Bayes Classifier\": GaussianNB(),\n",
    "    \"One-Class Classification\": IsolationForest(contamination=0.1),\n",
    "    \"K Nearest Neighbour Classifier\": KNeighborsClassifier(),\n",
    "    \"Random Forest Classifier\": RandomForestClassifier(),\n",
    "    \"Neural Network Based Classifier\": MLPClassifier(max_iter=1000)\n",
    "}"
   ]
  },
  {
   "cell_type": "code",
   "execution_count": 27,
   "id": "363f0521-cf1b-46ce-b8b0-1d4d2f3b1555",
   "metadata": {},
   "outputs": [],
   "source": [
    "scoring = ['accuracy', 'precision', 'recall', 'f1', 'roc_auc']"
   ]
  },
  {
   "cell_type": "code",
   "execution_count": 29,
   "id": "a84f8c5a-592c-402f-bf77-6e79dfc84c57",
   "metadata": {},
   "outputs": [
    {
     "name": "stdout",
     "output_type": "stream",
     "text": [
      "Logistic Regression completed in 0.080905 seconds.\n",
      "Support Vector Machine completed in 0.593300 seconds.\n",
      "Decision Tree Classifier completed in 0.077665 seconds.\n",
      "Naïve Bayes Classifier completed in 0.078292 seconds.\n",
      "One-Class Classification completed in 1.275707 seconds.\n",
      "K Nearest Neighbour Classifier completed in 0.169467 seconds.\n",
      "Random Forest Classifier completed in 1.306951 seconds.\n",
      "Neural Network Based Classifier completed in 13.669598 seconds.\n"
     ]
    }
   ],
   "source": [
    "from time import time  # Import the time module\n",
    "from sklearn.metrics import accuracy_score\n",
    "from sklearn.model_selection import cross_validate\n",
    "from sklearn.ensemble import RandomForestClassifier, GradientBoostingClassifier, AdaBoostClassifier, BaggingClassifier\n",
    "from sklearn.svm import SVC\n",
    "from sklearn.tree import DecisionTreeClassifier\n",
    "from sklearn.neighbors import KNeighborsClassifier\n",
    "from sklearn.naive_bayes import GaussianNB\n",
    "from sklearn.neural_network import MLPClassifier\n",
    "import warnings\n",
    "warnings.filterwarnings(\"ignore\")\n",
    "results = []\n",
    "\n",
    "\n",
    "for name, model in models.items():\n",
    "    start_time = time() \n",
    "    scores = cross_validate(model, X_train, y_train, cv=5, scoring=scoring, return_train_score=False)\n",
    "    end_time = time()  \n",
    "\n",
    "    accuracy = np.mean(scores['test_accuracy'])\n",
    "    precision = np.mean(scores['test_precision'])\n",
    "    recall = np.mean(scores['test_recall'])\n",
    "    f1 = np.mean(scores['test_f1'])\n",
    "    auc = np.mean(scores['test_roc_auc'])\n",
    "    elapsed_time = end_time - start_time  # Time taken to run the model\n",
    "\n",
    "    # Store the results in the list\n",
    "    results.append({\n",
    "        'Model': name,\n",
    "        'Accuracy': accuracy,\n",
    "        'Precision': precision,\n",
    "        'Recall': recall,\n",
    "        'F1-score': f1,\n",
    "        'AUC': auc,\n",
    "        'Time (s)': elapsed_time\n",
    "    })\n",
    "\n",
    "    print(f\"{name} completed in {elapsed_time:4f} seconds.\")\n"
   ]
  },
  {
   "cell_type": "code",
   "execution_count": 30,
   "id": "27a16577-bff1-4de0-8883-1901df9067ef",
   "metadata": {},
   "outputs": [],
   "source": [
    "results_df = pd.DataFrame(results)"
   ]
  },
  {
   "cell_type": "code",
   "execution_count": 31,
   "id": "f15d9480-e7ef-4a04-90ad-77e80d1365f4",
   "metadata": {},
   "outputs": [
    {
     "data": {
      "text/html": [
       "<div>\n",
       "<style scoped>\n",
       "    .dataframe tbody tr th:only-of-type {\n",
       "        vertical-align: middle;\n",
       "    }\n",
       "\n",
       "    .dataframe tbody tr th {\n",
       "        vertical-align: top;\n",
       "    }\n",
       "\n",
       "    .dataframe thead th {\n",
       "        text-align: right;\n",
       "    }\n",
       "</style>\n",
       "<table border=\"1\" class=\"dataframe\">\n",
       "  <thead>\n",
       "    <tr style=\"text-align: right;\">\n",
       "      <th></th>\n",
       "      <th>Model</th>\n",
       "      <th>Accuracy</th>\n",
       "      <th>Precision</th>\n",
       "      <th>Recall</th>\n",
       "      <th>F1-score</th>\n",
       "      <th>AUC</th>\n",
       "      <th>Time (s)</th>\n",
       "    </tr>\n",
       "  </thead>\n",
       "  <tbody>\n",
       "    <tr>\n",
       "      <th>0</th>\n",
       "      <td>Logistic Regression</td>\n",
       "      <td>0.680672</td>\n",
       "      <td>0.593911</td>\n",
       "      <td>0.514680</td>\n",
       "      <td>0.550061</td>\n",
       "      <td>0.736500</td>\n",
       "      <td>0.080905</td>\n",
       "    </tr>\n",
       "    <tr>\n",
       "      <th>1</th>\n",
       "      <td>Support Vector Machine</td>\n",
       "      <td>0.658285</td>\n",
       "      <td>0.552367</td>\n",
       "      <td>0.525455</td>\n",
       "      <td>0.537627</td>\n",
       "      <td>0.721263</td>\n",
       "      <td>0.593300</td>\n",
       "    </tr>\n",
       "    <tr>\n",
       "      <th>2</th>\n",
       "      <td>Decision Tree Classifier</td>\n",
       "      <td>0.658353</td>\n",
       "      <td>0.548278</td>\n",
       "      <td>0.544444</td>\n",
       "      <td>0.544012</td>\n",
       "      <td>0.636642</td>\n",
       "      <td>0.077665</td>\n",
       "    </tr>\n",
       "    <tr>\n",
       "      <th>3</th>\n",
       "      <td>Naïve Bayes Classifier</td>\n",
       "      <td>0.682051</td>\n",
       "      <td>0.561507</td>\n",
       "      <td>0.742694</td>\n",
       "      <td>0.638969</td>\n",
       "      <td>0.727416</td>\n",
       "      <td>0.078292</td>\n",
       "    </tr>\n",
       "    <tr>\n",
       "      <th>4</th>\n",
       "      <td>One-Class Classification</td>\n",
       "      <td>0.344444</td>\n",
       "      <td>NaN</td>\n",
       "      <td>NaN</td>\n",
       "      <td>NaN</td>\n",
       "      <td>0.612176</td>\n",
       "      <td>1.275707</td>\n",
       "    </tr>\n",
       "    <tr>\n",
       "      <th>5</th>\n",
       "      <td>K Nearest Neighbour Classifier</td>\n",
       "      <td>0.616443</td>\n",
       "      <td>0.493884</td>\n",
       "      <td>0.451785</td>\n",
       "      <td>0.470055</td>\n",
       "      <td>0.642462</td>\n",
       "      <td>0.169467</td>\n",
       "    </tr>\n",
       "    <tr>\n",
       "      <th>6</th>\n",
       "      <td>Random Forest Classifier</td>\n",
       "      <td>0.709887</td>\n",
       "      <td>0.639757</td>\n",
       "      <td>0.547677</td>\n",
       "      <td>0.588007</td>\n",
       "      <td>0.781645</td>\n",
       "      <td>1.306951</td>\n",
       "    </tr>\n",
       "    <tr>\n",
       "      <th>7</th>\n",
       "      <td>Neural Network Based Classifier</td>\n",
       "      <td>0.658265</td>\n",
       "      <td>0.556025</td>\n",
       "      <td>0.496027</td>\n",
       "      <td>0.523378</td>\n",
       "      <td>0.705926</td>\n",
       "      <td>13.669598</td>\n",
       "    </tr>\n",
       "  </tbody>\n",
       "</table>\n",
       "</div>"
      ],
      "text/plain": [
       "                             Model  Accuracy  Precision    Recall  F1-score  \\\n",
       "0              Logistic Regression  0.680672   0.593911  0.514680  0.550061   \n",
       "1           Support Vector Machine  0.658285   0.552367  0.525455  0.537627   \n",
       "2         Decision Tree Classifier  0.658353   0.548278  0.544444  0.544012   \n",
       "3           Naïve Bayes Classifier  0.682051   0.561507  0.742694  0.638969   \n",
       "4         One-Class Classification  0.344444        NaN       NaN       NaN   \n",
       "5   K Nearest Neighbour Classifier  0.616443   0.493884  0.451785  0.470055   \n",
       "6         Random Forest Classifier  0.709887   0.639757  0.547677  0.588007   \n",
       "7  Neural Network Based Classifier  0.658265   0.556025  0.496027  0.523378   \n",
       "\n",
       "        AUC   Time (s)  \n",
       "0  0.736500   0.080905  \n",
       "1  0.721263   0.593300  \n",
       "2  0.636642   0.077665  \n",
       "3  0.727416   0.078292  \n",
       "4  0.612176   1.275707  \n",
       "5  0.642462   0.169467  \n",
       "6  0.781645   1.306951  \n",
       "7  0.705926  13.669598  "
      ]
     },
     "execution_count": 31,
     "metadata": {},
     "output_type": "execute_result"
    }
   ],
   "source": [
    "results_df"
   ]
  },
  {
   "cell_type": "code",
   "execution_count": 32,
   "id": "fc7d92b8-3f02-44bc-8368-c9009eb02d25",
   "metadata": {},
   "outputs": [
    {
     "data": {
      "image/png": "[encoded data removed]",
      "text/plain": [
       "<Figure size 1200x600 with 1 Axes>"
      ]
     },
     "metadata": {},
     "output_type": "display_data"
    }
   ],
   "source": [
    "import matplotlib.pyplot as plt\n",
    "import seaborn as sns\n",
    "\n",
    "plt.figure(figsize=(12,6))\n",
    "sns.barplot(x=\"Accuracy\", y=\"Model\", data=results_df, palette=\"viridis\")\n",
    "plt.title(\"Accuracy Comparison of Models\")\n",
    "plt.show()"
   ]
  },
  {
   "cell_type": "code",
   "execution_count": 33,
   "id": "86df0fbd-0836-44c8-a252-f60918b1488e",
   "metadata": {},
   "outputs": [
    {
     "data": {
      "text/plain": [
       "<Axes: xlabel='Algorithms', ylabel='Accuracy score'>"
      ]
     },
     "execution_count": 33,
     "metadata": {},
     "output_type": "execute_result"
    },
    {
     "data": {
      "image/png": "[encoded data removed]",
      "text/plain": [
       "<Figure size 1500x800 with 1 Axes>"
      ]
     },
     "metadata": {},
     "output_type": "display_data"
    }
   ],
   "source": [
    "sns.set(rc={'figure.figsize':(15,8)})\n",
    "plt.xlabel(\"Algorithms\")\n",
    "plt.ylabel(\"Accuracy score\")\n",
    "\n",
    "sns.barplot(x=results_df['Model'], y=results_df['Accuracy'])"
   ]
  },
  {
   "cell_type": "code",
   "execution_count": 34,
   "id": "74b732cc-5cdf-4a41-9425-3701a0776e21",
   "metadata": {},
   "outputs": [],
   "source": [
    "results_df.to_csv(\"model_comparison_min.csv\", index=False)"
   ]
  },
  {
   "cell_type": "code",
   "execution_count": 35,
   "id": "734af5f2-264e-44e8-9783-cc240ff56a12",
   "metadata": {},
   "outputs": [
    {
     "name": "stdout",
     "output_type": "stream",
     "text": [
      "Model saved as 'model_joblib_heart.pkl'\n"
     ]
    }
   ],
   "source": [
    "# Save the model using joblib\n",
    "import joblib\n",
    "joblib.dump(RandomForestClassifier, \"model_joblib_heart.pkl\")\n",
    "print(\"Model saved as 'model_joblib_heart.pkl'\")"
   ]
  },
  {
   "cell_type": "code",
   "execution_count": 46,
   "id": "858ddf35-6ada-4f73-89dc-d541990af1ec",
   "metadata": {},
   "outputs": [],
   "source": [
    "from tkinter import *\n",
    "from tkinter import messagebox\n",
    "import joblib\n",
    "\n",
    "def show_entry_fields():\n",
    "    try:\n",
    "        # Retrieve inputs and convert them to the appropriate data types\n",
    "        p1 = int(e1.get())\n",
    "        p2 = int(e2.get())\n",
    "        p3 = int(e3.get())\n",
    "        p4 = int(e4.get())\n",
    "        p5 = int(e5.get())\n",
    "        p6 = int(e6.get())\n",
    "        p7 = int(e7.get())\n",
    "        p8 = int(e8.get())\n",
    "        p9 = int(e9.get())\n",
    "        p10 = float(e10.get())\n",
    "        p11 = int(e11.get())\n",
    "        p12 = int(e12.get())\n",
    "        p13 = int(e13.get())\n",
    "        \n",
    "        # Construct the input feature list\n",
    "        input_features = [p1, p2, p3, p4, p5, p6, p7, p8, p9, p10, p11, p12, p13]\n",
    "        \n",
    "        # Add placeholders for one-hot encoded features if needed\n",
    "        # Adjust to your model's requirement for 22 features\n",
    "        complete_features = input_features + [0] * (22 - len(input_features))\n",
    "        \n",
    "        # Load the trained model\n",
    "        model = joblib.load('model_joblib_heart')\n",
    "        \n",
    "        # Make a prediction\n",
    "        result = model.predict([complete_features])\n",
    "        \n",
    "        # Display the result\n",
    "        if result[0] == 0:\n",
    "            messagebox.showinfo(\"Prediction Result\", \"No Heart Disease Detected.\")\n",
    "        else:\n",
    "            messagebox.showinfo(\"Prediction Result\", \"Possibility of Heart Disease Detected.\")\n",
    "    \n",
    "    except ValueError:\n",
    "        # Handle invalid inputs\n",
    "        messagebox.showerror(\"Input Error\", \"Please enter valid numeric values in all fields.\")\n",
    "    except Exception as e:\n",
    "        # Handle other exceptions\n",
    "        messagebox.showerror(\"Error\", f\"An error occurred: {e}\")\n",
    "\n",
    "# Set up the main GUI window\n",
    "master = Tk()\n",
    "master.title(\"Heart Disease Prediction System\")\n",
    "\n",
    "# Create and place labels and entry fields\n",
    "Label(master, text=\"Heart Disease Prediction System\", bg=\"black\", fg=\"white\", font=(\"Arial\", 16)).grid(row=0, columnspan=2, pady=10)\n",
    "labels = [\n",
    "    \"Enter Your Age\", \"Male Or Female [1/0]\", \"Enter Value of CP\", \"Enter Value of trestbps\",\n",
    "    \"Enter Value of chol\", \"Enter Value of fbs\", \"Enter Value of restecg\", \"Enter Value of thalach\",\n",
    "    \"Enter Value of exang\", \"Enter Value of oldpeak\", \"Enter Value of slope\", \"Enter Value of ca\", \"Enter Value of thal\"\n",
    "]\n",
    "entries = []\n",
    "\n",
    "# Add labels and entry fields dynamically\n",
    "for i, text in enumerate(labels, start=1):\n",
    "    Label(master, text=text, font=(\"Arial\", 12)).grid(row=i, column=0, padx=10, pady=5, sticky=E)\n",
    "    entry = Entry(master, font=(\"Arial\", 12))\n",
    "    entry.grid(row=i, column=1, padx=10, pady=5)\n",
    "    entries.append(entry)\n",
    "\n",
    "# Unpack entry fields\n",
    "e1, e2, e3, e4, e5, e6, e7, e8, e9, e10, e11, e12, e13 = entries\n",
    "\n",
    "# Add a prediction button\n",
    "Button(master, text='Predict', command=show_entry_fields, font=(\"Arial\", 12), bg=\"blue\", fg=\"white\").grid(row=30, columnspan=2, pady=10)\n",
    "\n",
    "# Run the GUI loop\n",
    "master.mainloop()\n"
   ]
  },
  {
   "cell_type": "code",
   "execution_count": null,
   "id": "a732b2c7-e1b5-44f4-90c5-de10c561f9b3",
   "metadata": {},
   "outputs": [],
   "source": []
  }
 ],
 "metadata": {
  "kernelspec": {
   "display_name": "Python 3 (ipykernel)",
   "language": "python",
   "name": "python3"
  },
  "language_info": {
   "codemirror_mode": {
    "name": "ipython",
    "version": 3
   },
   "file_extension": ".py",
   "mimetype": "text/x-python",
   "name": "python",
   "nbconvert_exporter": "python",
   "pygments_lexer": "ipython3",
   "version": "3.12.4"
  }
 },
 "nbformat": 4,
 "nbformat_minor": 5
}
